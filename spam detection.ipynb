{
 "cells": [
  {
   "cell_type": "code",
   "execution_count": 17,
   "id": "a943a587-e0bc-4f55-8789-531ba8c8330d",
   "metadata": {},
   "outputs": [],
   "source": [
    "import pandas as pd\n",
    "from sklearn.model_selection import train_test_split\n",
    "from sklearn.feature_extraction.text import TfidfVectorizer\n",
    "from sklearn.naive_bayes import MultinomialNB"
   ]
  },
  {
   "cell_type": "code",
   "execution_count": 18,
   "id": "fd15afaf-c698-49ea-af02-37ec7dbe3008",
   "metadata": {},
   "outputs": [],
   "source": [
    "# Load dataset\n",
    "data = pd.read_csv('spam.csv', encoding='latin1')"
   ]
  },
  {
   "cell_type": "code",
   "execution_count": 19,
   "id": "af0afaea-6c0d-497b-854d-ccee78e04ca6",
   "metadata": {},
   "outputs": [],
   "source": [
    "# Select only relevant columns\n",
    "data = data[['v1', 'v2']]\n",
    "data.columns = ['label', 'message']\n"
   ]
  },
  {
   "cell_type": "code",
   "execution_count": 20,
   "id": "c40fc252-26cd-434f-9c13-7c020d10feaf",
   "metadata": {},
   "outputs": [],
   "source": [
    "# Clean and map labels\n",
    "data['label'] = data['label'].str.strip()  # Remove extra spaces\n",
    "data = data[data['label'].isin(['ham', 'spam'])]  # Filter valid labels\n",
    "data['label'] = data['label'].map({'ham': 0, 'spam': 1})  # Map to 0 and 1"
   ]
  },
  {
   "cell_type": "code",
   "execution_count": 21,
   "id": "11c1a66a-3a68-412c-95be-a7e1e6fbefda",
   "metadata": {},
   "outputs": [],
   "source": [
    "# Drop missing values if any remain\n",
    "data = data.dropna(subset=['label', 'message'])\n"
   ]
  },
  {
   "cell_type": "code",
   "execution_count": 22,
   "id": "ddabed9a-a8ec-4004-b6b6-b86ff60fe6ad",
   "metadata": {},
   "outputs": [],
   "source": [
    "# Split data into training and testing sets\n",
    "X_train, X_test, y_train, y_test = train_test_split(data['message'], data['label'], test_size=0.2, random_state=42)"
   ]
  },
  {
   "cell_type": "code",
   "execution_count": 23,
   "id": "77d2cbb1-2cd4-4663-bb55-99a2b05d96a2",
   "metadata": {},
   "outputs": [],
   "source": [
    "# Transform text data to TF-IDF features\n",
    "vectorizer = TfidfVectorizer()\n",
    "X_train_tfidf = vectorizer.fit_transform(X_train)\n",
    "X_test_tfidf = vectorizer.transform(X_test)"
   ]
  },
  {
   "cell_type": "code",
   "execution_count": 24,
   "id": "340fc194-12aa-4a83-8d82-e5bb9e3fbbd0",
   "metadata": {},
   "outputs": [],
   "source": [
    "# Train Naive Bayes model\n",
    "nb_model = MultinomialNB()\n",
    "nb_model.fit(X_train_tfidf, y_train)  # Fit the model\n",
    "nb_predictions = nb_model.predict(X_test_tfidf)"
   ]
  },
  {
   "cell_type": "code",
   "execution_count": 25,
   "id": "419b8a16-7f55-4997-bd23-235199860923",
   "metadata": {},
   "outputs": [],
   "source": [
    "# Logistic Regression\n",
    "lr_model = LogisticRegression(max_iter=1000)\n",
    "lr_model.fit(X_train_tfidf, y_train)\n",
    "lr_predictions = lr_model.predict(X_test_tfidf)"
   ]
  },
  {
   "cell_type": "code",
   "execution_count": 26,
   "id": "6646e759-3f05-4067-a27b-d9adef494507",
   "metadata": {},
   "outputs": [],
   "source": [
    "# Support Vector Machine (SVM)\n",
    "svm_model = SVC(kernel='linear', C=1.0)\n",
    "svm_model.fit(X_train_tfidf, y_train)\n",
    "svm_predictions = svm_model.predict(X_test_tfidf)"
   ]
  },
  {
   "cell_type": "code",
   "execution_count": 27,
   "id": "9e111f2f-a93a-4fe0-806f-49f1a6883c67",
   "metadata": {},
   "outputs": [
    {
     "name": "stdout",
     "output_type": "stream",
     "text": [
      "Naive Bayes Results:\n",
      "              precision    recall  f1-score   support\n",
      "\n",
      "           0       0.96      1.00      0.98       965\n",
      "           1       1.00      0.72      0.84       150\n",
      "\n",
      "    accuracy                           0.96      1115\n",
      "   macro avg       0.98      0.86      0.91      1115\n",
      "weighted avg       0.96      0.96      0.96      1115\n",
      "\n",
      "Accuracy: 0.9623318385650225\n",
      "\n",
      "Logistic Regression Results:\n",
      "              precision    recall  f1-score   support\n",
      "\n",
      "           0       0.96      1.00      0.98       965\n",
      "           1       0.99      0.77      0.86       150\n",
      "\n",
      "    accuracy                           0.97      1115\n",
      "   macro avg       0.98      0.88      0.92      1115\n",
      "weighted avg       0.97      0.97      0.97      1115\n",
      "\n",
      "Accuracy: 0.967713004484305\n",
      "\n",
      "SVM Results:\n",
      "              precision    recall  f1-score   support\n",
      "\n",
      "           0       0.98      1.00      0.99       965\n",
      "           1       0.99      0.89      0.93       150\n",
      "\n",
      "    accuracy                           0.98      1115\n",
      "   macro avg       0.98      0.94      0.96      1115\n",
      "weighted avg       0.98      0.98      0.98      1115\n",
      "\n",
      "Accuracy: 0.9829596412556054\n"
     ]
    }
   ],
   "source": [
    "# 6. Evaluate Models\n",
    "print(\"Naive Bayes Results:\")\n",
    "print(classification_report(y_test, nb_predictions))\n",
    "print(\"Accuracy:\", accuracy_score(y_test, nb_predictions))\n",
    "\n",
    "print(\"\\nLogistic Regression Results:\")\n",
    "print(classification_report(y_test, lr_predictions))\n",
    "print(\"Accuracy:\", accuracy_score(y_test, lr_predictions))\n",
    "\n",
    "print(\"\\nSVM Results:\")\n",
    "print(classification_report(y_test, svm_predictions))\n",
    "print(\"Accuracy:\", accuracy_score(y_test, svm_predictions))"
   ]
  },
  {
   "cell_type": "code",
   "execution_count": null,
   "id": "3ddda29b-6a7a-4b08-b7a8-f06abe88949f",
   "metadata": {},
   "outputs": [],
   "source": []
  }
 ],
 "metadata": {
  "kernelspec": {
   "display_name": "Python 3 (ipykernel)",
   "language": "python",
   "name": "python3"
  },
  "language_info": {
   "codemirror_mode": {
    "name": "ipython",
    "version": 3
   },
   "file_extension": ".py",
   "mimetype": "text/x-python",
   "name": "python",
   "nbconvert_exporter": "python",
   "pygments_lexer": "ipython3",
   "version": "3.12.7"
  }
 },
 "nbformat": 4,
 "nbformat_minor": 5
}
